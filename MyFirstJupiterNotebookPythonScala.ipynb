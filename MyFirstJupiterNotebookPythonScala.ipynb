{
    "nbformat_minor": 1, 
    "cells": [
        {
            "source": "# My Jupyter Notebook on IBM Data Science Experience", 
            "cell_type": "markdown", 
            "metadata": {}
        }, 
        {
            "source": "**Suresh Konti**  \nSoftware Engineer", 
            "cell_type": "markdown", 
            "metadata": {}
        }, 
        {
            "source": "_I am interested in data science because of better opportunities_", 
            "cell_type": "markdown", 
            "metadata": {}
        }, 
        {
            "source": "### The code simply adds 1 + 1", 
            "cell_type": "markdown", 
            "metadata": {}
        }, 
        {
            "execution_count": 7, 
            "cell_type": "code", 
            "metadata": {}, 
            "outputs": [
                {
                    "execution_count": 7, 
                    "metadata": {}, 
                    "data": {
                        "text/plain": "2"
                    }, 
                    "output_type": "execute_result"
                }
            ], 
            "source": "1 + 1\n"
        }, 
        {
            "source": "<ul>\n  <li>Coffee</li>\n  <li>Tea</li>\n  <li>Milk</li>\n</ul>\n", 
            "cell_type": "markdown", 
            "metadata": {}
        }, 
        {
            "source": "<font color=\"blue\">Some Text</font>\n\n1. numbering\n\n* bulletlist1\n\n<a href=https://datascience.ibm.com><img src=https://datascience.ibm.com/graphics/landing/logo.svg width = 400>\n    ", 
            "cell_type": "markdown", 
            "metadata": {}
        }, 
        {
            "source": "<font color=\"red\">RED TEXT</font>\n\n1. numbering\n1. numbering\n\na<href=https://datascience.ibm.com><img src=https://datascience.ibm.com/graphics/landing/logo.svg width = 400>\n        \n<ul>\n  <li>Coffee</li>\n  <li>Tea</li>\n  <li>Milk</li>\n</ul>", 
            "cell_type": "markdown", 
            "metadata": {}
        }, 
        {
            "source": "", 
            "cell_type": "markdown", 
            "metadata": {}
        }
    ], 
    "metadata": {
        "kernelspec": {
            "display_name": "Python 3.5 with Spark", 
            "name": "python3", 
            "language": "python3"
        }, 
        "language_info": {
            "mimetype": "text/x-python", 
            "nbconvert_exporter": "python", 
            "version": "3.5.4", 
            "name": "python", 
            "file_extension": ".py", 
            "pygments_lexer": "ipython3", 
            "codemirror_mode": {
                "version": 3, 
                "name": "ipython"
            }
        }
    }, 
    "nbformat": 4
}